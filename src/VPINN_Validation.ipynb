{
 "cells": [
  {
   "cell_type": "code",
   "execution_count": null,
   "metadata": {},
   "outputs": [],
   "source": [
    "%matplotlib inline\n",
    "import numpy as np\n",
    "import matplotlib.pyplot as plt\n",
    "%load_ext autoreload\n",
    "%autoreload 2\n",
    "plt.rcParams[\"figure.autolayout\"] = True"
   ]
  },
  {
   "cell_type": "code",
   "execution_count": null,
   "metadata": {},
   "outputs": [],
   "source": [
    "import torch\n",
    "from torch import nn, optim\n",
    "from testfuncs import Legendre_Polynomials, Finite_Elements\n",
    "from utils import plot_history, plot_validation\n",
    "import torch.nn.functional as F"
   ]
  },
  {
   "cell_type": "markdown",
   "metadata": {},
   "source": [
    "## Define the parameters of the equation"
   ]
  },
  {
   "cell_type": "code",
   "execution_count": null,
   "metadata": {},
   "outputs": [],
   "source": [
    "f = lambda x: 10  # Source function\n",
    "k = 2. * (np.pi / 2)  # frequency\n",
    "a, b = -1., +1.  # Domain\n",
    "ga, gb = 5., 0.  # Values at the boundaries"
   ]
  },
  {
   "cell_type": "markdown",
   "metadata": {},
   "source": [
    "## Get the exact solution"
   ]
  },
  {
   "cell_type": "code",
   "execution_count": null,
   "metadata": {},
   "outputs": [],
   "source": [
    "from solvers import Exact_HelmholtzImpedance\n",
    "\n",
    "exact = Exact_HelmholtzImpedance([f(0), 0], k, a, b, ga, gb, source='const')\n",
    "exact.verify()\n",
    "u, u_x, u_xx = exact()\n",
    "\n",
    "# Check that the solution satisfies boundary conditions\n",
    "assert np.allclose(- u_x(a) - 1j * k * u(a), ga)\n",
    "assert np.allclose(+ u_x(b) - 1j * k * u(b), gb)\n",
    "for x in np.linspace(a, b, 100):\n",
    "    assert np.allclose(- u_xx(x) - k ** 2 * u(x), f(x))"
   ]
  },
  {
   "cell_type": "markdown",
   "metadata": {},
   "source": [
    "## Define the model"
   ]
  },
  {
   "cell_type": "code",
   "execution_count": null,
   "metadata": {},
   "outputs": [],
   "source": [
    "from solvers import VPINN_HelmholtzImpedance\n",
    "\n",
    "# Parameters\n",
    "testfuncs = 50\n",
    "width = 10\n",
    "depth = 1\n",
    "activation = F.relu\n",
    "penalty = None\n",
    "cuda = False\n",
    "seed = None\n",
    "dropout_probs = None\n",
    "\n",
    "# Model\n",
    "model = VPINN_HelmholtzImpedance(f=f, k=k, a=a, b=b, ga=ga, gb=gb,\n",
    "                                layers=[1] + [width for _ in range(depth)] + [2],\n",
    "                                activation=activation,\n",
    "                                dropout_probs=dropout_probs,\n",
    "                                penalty=penalty,\n",
    "                                quad_N=100,\n",
    "                                seed=seed,\n",
    "                                cuda=cuda,\n",
    "                                )\n",
    "if cuda: model = model.cuda()\n",
    "\n",
    "# Test functions\n",
    "testfunctions = Finite_Elements(testfuncs - 1, a, b, dtype=torch.Tensor)()\n",
    "experiment_name = f'Fin-D{depth:03d}N{width:03d}K{testfuncs:03d}'\n",
    "# testfunctions = Legendre_Polynomials(testfuncs - 1, a, b)()\n",
    "# experiment_name = f'Leg-D{depth:03d}N{width:03d}K{testfuncs:03d}'"
   ]
  },
  {
   "cell_type": "markdown",
   "metadata": {},
   "source": [
    "## Train the network"
   ]
  },
  {
   "cell_type": "markdown",
   "metadata": {},
   "source": [
    "### Perfect initialization (to check the network, loss function, etc.)"
   ]
  },
  {
   "cell_type": "code",
   "execution_count": null,
   "metadata": {},
   "outputs": [],
   "source": [
    "points = torch.linspace(a - 1e-06, b, width + 1).float()\n",
    "derivs = torch.zeros_like(model.lins[1].weight)\n",
    "for i, point, next in zip(range(width), points[:-1], points[1:]):\n",
    "    derivs[0, i] = .5 * (u_x(point).real + u_x(next).real)\n",
    "    derivs[1, i] = .5 * (u_x(point).imag + u_x(next).imag)\n",
    "steps = derivs.clone()\n",
    "for i in range(width - 1):\n",
    "    steps[0, i + 1] = derivs[0, i + 1] - derivs[0, i]\n",
    "    steps[1, i + 1] = derivs[1, i + 1] - derivs[1, i]\n",
    "\n",
    "model.lins[0].weight = nn.Parameter(torch.ones_like(model.lins[0].weight))\n",
    "model.lins[0].bias = nn.Parameter(-1 * points[:-1])\n",
    "model.lins[1].weight = nn.Parameter(steps.float())\n",
    "model.lins[1].bias = nn.Parameter(torch.tensor([u(a).real, u(a).imag]).float())"
   ]
  },
  {
   "cell_type": "markdown",
   "metadata": {},
   "source": [
    "### Train"
   ]
  },
  {
   "cell_type": "code",
   "execution_count": null,
   "metadata": {},
   "outputs": [],
   "source": [
    "epochs = 3\n",
    "\n",
    "optimizer = optim.SGD([\n",
    "  # {'params': model.lins[0].weight, 'lr': 5e-03},\n",
    "  # {'params': model.lins[0].bias, 'lr': 1e-04},\n",
    "  {'params': model.lins[1].weight, 'lr': 1e-03},\n",
    "  {'params': model.lins[1].bias, 'lr': 1e-03},\n",
    "  ], lr=1e-03, momentum=.5)\n",
    "\n",
    "scheduler = torch.optim.lr_scheduler.MultiStepLR(optimizer, milestones=[], gamma=.1, last_epoch=-1)\n",
    "\n",
    "model.train_(testfunctions, epochs, optimizer, scheduler)\n",
    "\n",
    "plot_history(model.history)"
   ]
  },
  {
   "cell_type": "markdown",
   "metadata": {},
   "source": [
    "## Plot the parameters"
   ]
  },
  {
   "cell_type": "code",
   "execution_count": null,
   "metadata": {},
   "outputs": [],
   "source": [
    "plt.rcParams['figure.figsize'] = [15, 10]\n",
    "fig, axs = plt.subplots(3, 1)\n",
    "fig.tight_layout(pad=4.0)\n",
    "fig.suptitle(f'Parameters of the model')\n",
    "\n",
    "axs[0].scatter(np.arange(1, width + 1), model.lins[0].weight.detach().view(-1).numpy(), label='$w_n$')\n",
    "axs[1].scatter(np.arange(1, width + 1), model.lins[0].bias.detach().view(-1).numpy(), label='$b_n$')\n",
    "axs[2].scatter(np.arange(1, width + 1), model.lins[1].weight[0].detach().view(-1).numpy(), label='$c^1_n$')\n",
    "axs[2].scatter(np.arange(1, width + 1), model.lins[1].weight[1].detach().view(-1).numpy(), label='$c^2_n$')\n",
    "axs[2].scatter(0, model.lins[1].bias[0].detach().view(-1).numpy(), label=f'$c^1_0$={model.lins[1].bias[0].item():.2f}', color='black')\n",
    "axs[2].scatter(0, model.lins[1].bias[1].detach().view(-1).numpy(), label=f'$c^2_0$={model.lins[1].bias[1].item():.2f}', color='black')\n",
    "for ax in axs:\n",
    "    ax.grid()\n",
    "    ax.legend()\n",
    "\n",
    "file = '../results/VPINN_HelmholtzImpedance/' + experiment_name + '-weights.png'\n",
    "plt.savefig(file)"
   ]
  },
  {
   "cell_type": "markdown",
   "metadata": {},
   "source": [
    "## Evaluate the results"
   ]
  },
  {
   "cell_type": "code",
   "execution_count": null,
   "metadata": {},
   "outputs": [],
   "source": [
    "errs = model.H1_error(u, u_x)\n",
    "\n",
    "print(f'H1-error: \\t\\t{errs[0].item():.2e}')\n",
    "print(f'Solution L2-error: \\t{errs[1].item():.2e}')\n",
    "print(f'Derivative L2-error: {errs[2].item():.2e}')"
   ]
  },
  {
   "cell_type": "code",
   "execution_count": null,
   "metadata": {},
   "outputs": [],
   "source": [
    "title = f'\\\n",
    "    k={round(model.k.item()/(np.pi/2))}π/2, \\\n",
    "    ga={model.ga_re.item()}+i{model.ga_im.item()}, \\\n",
    "    gb={model.gb_re.item()}+i{model.gb_im.item()}, \\\n",
    "    \\nD={depth}, N={width}, K={testfuncs}\\\n",
    "    \\n'\n",
    "\n",
    "model.eval()\n",
    "\n",
    "xpts = torch.linspace(a, b, 301).float().view(-1, 1)\n",
    "upts_re, upts_im = u(xpts).real, u(xpts).imag\n",
    "rpts_re, rpts_im = model.deriv(0, xpts)\n",
    "with torch.no_grad():\n",
    "    xpts = xpts.numpy().reshape(-1)\n",
    "    upts_re = upts_re.numpy().reshape(-1)\n",
    "    upts_im = upts_im.numpy().reshape(-1)\n",
    "    rpts_re = rpts_re.numpy().reshape(-1)\n",
    "    rpts_im = rpts_im.numpy().reshape(-1)\n",
    "\n",
    "file = '../results/VPINN_HelmholtzImpedance/' + experiment_name + '-sol.png'\n",
    "plot_validation(xpts, (upts_re, upts_im), (rpts_re, rpts_im), title=title, subscript='', file=file)\n",
    "\n",
    "xpts = torch.linspace(a, b, 301).float().view(-1, 1)\n",
    "upts_re, upts_im = u_x(xpts).real, u_x(xpts).imag\n",
    "xpts.requires_grad_()\n",
    "rpts_re, rpts_im = model.deriv(1, xpts)\n",
    "with torch.no_grad():\n",
    "    xpts = xpts.numpy().reshape(-1)\n",
    "    upts_re = upts_re.numpy().reshape(-1)\n",
    "    upts_im = upts_im.numpy().reshape(-1)\n",
    "    rpts_re = rpts_re.numpy().reshape(-1)\n",
    "    rpts_im = rpts_im.numpy().reshape(-1)\n",
    "\n",
    "file = '../results/VPINN_HelmholtzImpedance/' + experiment_name + '-der.png'\n",
    "plot_validation(xpts, (upts_re, upts_im), (rpts_re, rpts_im), title=title, subscript='_x', file=file)"
   ]
  }
 ],
 "metadata": {
  "interpreter": {
   "hash": "be58ab208add1bbb36a00fdf379bbb1801e516133b0f1dfae7eea1fe59d8f356"
  },
  "kernelspec": {
   "display_name": "Python 3.9.7 ('mcss')",
   "language": "python",
   "name": "python3"
  },
  "language_info": {
   "codemirror_mode": {
    "name": "ipython",
    "version": 3
   },
   "file_extension": ".py",
   "mimetype": "text/x-python",
   "name": "python",
   "nbconvert_exporter": "python",
   "pygments_lexer": "ipython3",
   "version": "3.9.7"
  },
  "orig_nbformat": 4
 },
 "nbformat": 4,
 "nbformat_minor": 2
}
